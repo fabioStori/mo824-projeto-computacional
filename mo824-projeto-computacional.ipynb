{
 "cells": [
  {
   "cell_type": "code",
   "execution_count": null,
   "metadata": {},
   "outputs": [],
   "source": [
    "print('NOME: ADIVAIR SANTANA RAMOS - RA: 193325')\n",
    "print('NOME: FABIO STORI - RA: 196631')"
   ]
  }
 ],
 "metadata": {
  "language_info": {
   "name": "python"
  },
  "orig_nbformat": 4
 },
 "nbformat": 4,
 "nbformat_minor": 2
}
